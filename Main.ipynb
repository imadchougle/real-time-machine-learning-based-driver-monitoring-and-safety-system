{
 "cells": [
  {
   "cell_type": "code",
   "execution_count": null,
   "id": "b64a583d-1e50-4e45-87b8-2d931b49e121",
   "metadata": {},
   "outputs": [],
   "source": [
    "import cv2\n",
    "import os\n",
    "import tensorflow as tf\n",
    "from tensorflow.keras.models import load_model\n",
    "from pygame import mixer\n",
    "import time\n",
    "import numpy as np"
   ]
  },
  {
   "cell_type": "code",
   "execution_count": null,
   "id": "8378be07-e7dd-4af5-a4b1-dfdca14237d3",
   "metadata": {},
   "outputs": [],
   "source": [
    "eye_cascade = cv2.CascadeClassifier(cv2.data.haarcascades + \"haarcascade_eye.xml\")\n",
    "model = tf.keras.models.load_model(r'C:\\Users\\imadc\\Super Folder\\modelss\\MobileNet.h5')"
   ]
  },
  {
   "cell_type": "code",
   "execution_count": null,
   "id": "18292ff4-e064-4f3b-b20b-2da75c53339a",
   "metadata": {},
   "outputs": [],
   "source": [
    "def preprocess_eye(eye):\n",
    "    eye = cv2.resize(eye, (80, 80))\n",
    "    eye = eye / 255.0\n",
    "    eye = np.expand_dims(eye, axis=0)\n",
    "    return eye"
   ]
  },
  {
   "cell_type": "code",
   "execution_count": null,
   "id": "64b34617-2eec-456a-9431-f1a69b8aa953",
   "metadata": {},
   "outputs": [],
   "source": [
    "from pygame import mixer\n",
    "\n",
    "cap = cv2.VideoCapture(0)\n",
    "song = r\"C:\\Users\\imadc\\alert.wav\"\n",
    "mixer.init()\n",
    "alert_sound = mixer.Sound(song)\n",
    "point= 0\n",
    "prev_frame_time = 0\n",
    "sound_flag = False\n",
    "\n",
    "#AirBag Model \n",
    "\n",
    "from tensorflow.keras.preprocessing import image\n",
    "airbagmodel = tf.keras.models.load_model(r'C:\\Users\\imadc\\Super Folder\\modelss\\MobileNetAirBagModel.h5')\n",
    "alert_threshold=10\n",
    "consecutive_frames = 0\n",
    "alert_triggered = False\n",
    "\n",
    "\n",
    "closed_eye_frames = 0\n",
    "continuous_closed_eye_frames = 0\n",
    "\n",
    "\n",
    "#Yawn\n",
    "\n",
    "import dlib\n",
    "import math\n",
    "\n",
    "predictor_path = r\"C:\\Users\\imadc\\Super Folder\\shape_predictor_68_face_landmarks.dat\"\n",
    "predictor = dlib.shape_predictor(predictor_path)\n",
    "face_detector = dlib.get_frontal_face_detector()\n",
    "\n",
    "yawn = r\"C:\\Users\\imadc\\yawn_alert.mp3\"\n",
    "yawn_alert = mixer.Sound(yawn)\n",
    "\n",
    "consecutive_frames_yawning = 0\n",
    "yawning_threshold = 8 \n",
    "yawn_detected = False  \n",
    "yawn_count = 0\n",
    "yawn_alert_threshold = 4 \n",
    "alert_displayed = False\n",
    "\n",
    "\n",
    "\n",
    "\n"
   ]
  }
 ],
 "metadata": {
  "kernelspec": {
   "display_name": "Python 3 (ipykernel)",
   "language": "python",
   "name": "python3"
  },
  "language_info": {
   "codemirror_mode": {
    "name": "ipython",
    "version": 3
   },
   "file_extension": ".py",
   "mimetype": "text/x-python",
   "name": "python",
   "nbconvert_exporter": "python",
   "pygments_lexer": "ipython3",
   "version": "3.11.4"
  }
 },
 "nbformat": 4,
 "nbformat_minor": 5
}
