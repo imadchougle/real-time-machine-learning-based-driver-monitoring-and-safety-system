{
 "cells": [
  {
   "cell_type": "code",
   "execution_count": null,
   "id": "b64a583d-1e50-4e45-87b8-2d931b49e121",
   "metadata": {},
   "outputs": [],
   "source": [
    "import cv2\n",
    "import os\n",
    "import tensorflow as tf\n",
    "from tensorflow.keras.models import load_model\n",
    "from pygame import mixer\n",
    "import time\n",
    "import numpy as np"
   ]
  },
  {
   "cell_type": "code",
   "execution_count": null,
   "id": "8378be07-e7dd-4af5-a4b1-dfdca14237d3",
   "metadata": {},
   "outputs": [],
   "source": [
    "eye_cascade = cv2.CascadeClassifier(cv2.data.haarcascades + \"haarcascade_eye.xml\")\n",
    "model = tf.keras.models.load_model(r'C:\\Users\\imadc\\Super Folder\\modelss\\MobileNet.h5')"
   ]
  },
  {
   "cell_type": "code",
   "execution_count": null,
   "id": "18292ff4-e064-4f3b-b20b-2da75c53339a",
   "metadata": {},
   "outputs": [],
   "source": [
    "def preprocess_eye(eye):\n",
    "    eye = cv2.resize(eye, (80, 80))\n",
    "    eye = eye / 255.0\n",
    "    eye = np.expand_dims(eye, axis=0)\n",
    "    return eye"
   ]
  }
 ],
 "metadata": {
  "kernelspec": {
   "display_name": "Python 3 (ipykernel)",
   "language": "python",
   "name": "python3"
  },
  "language_info": {
   "codemirror_mode": {
    "name": "ipython",
    "version": 3
   },
   "file_extension": ".py",
   "mimetype": "text/x-python",
   "name": "python",
   "nbconvert_exporter": "python",
   "pygments_lexer": "ipython3",
   "version": "3.11.4"
  }
 },
 "nbformat": 4,
 "nbformat_minor": 5
}
