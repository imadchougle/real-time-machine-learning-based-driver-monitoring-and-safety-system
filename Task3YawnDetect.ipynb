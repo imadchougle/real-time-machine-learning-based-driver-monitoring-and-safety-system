{
 "cells": [
  {
   "cell_type": "code",
   "execution_count": 3,
   "id": "2e1d7742-6e31-4938-a9f1-9417bb1c10ad",
   "metadata": {},
   "outputs": [],
   "source": [
    "import cv2\n",
    "import dlib\n",
    "import math\n",
    "import pygame"
   ]
  },
  {
   "cell_type": "code",
   "execution_count": 6,
   "id": "d959113c-d300-4a5e-81c4-35aa0e6794f3",
   "metadata": {},
   "outputs": [],
   "source": [
    "pygame.init()\n",
    "pygame.mixer.init()\n",
    "\n",
    "alert_sound = pygame.mixer.Sound(r'C:\\Users\\imadc\\yawn_alert.mp3')\n",
    "\n",
    "predictor_path = r\"C:\\Users\\imadc\\Super Folder\\shape_predictor_68_face_landmarks.dat\"\n",
    "predictor = dlib.shape_predictor(predictor_path)\n",
    "\n",
    "face_detector = dlib.get_frontal_face_detector()"
   ]
  },
  {
   "cell_type": "code",
   "execution_count": 7,
   "id": "207a70f6-ad8b-45ea-a0bf-a2d5196bc9bd",
   "metadata": {},
   "outputs": [],
   "source": [
    "consecutive_frames_yawning = 0\n",
    "yawning_threshold = 15 \n",
    "yawn_detected = False  \n",
    "\n",
    "yawn_count = 0\n",
    "yawn_alert_threshold = 4  \n",
    "alert_displayed = False\n",
    "\n",
    "cap = cv2.VideoCapture(0)"
   ]
  },
  {
   "cell_type": "code",
   "execution_count": 8,
   "id": "ed957aef-d9bf-4f2d-8ea0-0d1d67b2d28e",
   "metadata": {},
   "outputs": [],
   "source": [
    "while True:\n",
    "    ret, frame = cap.read()\n",
    "\n",
    "    if not ret:\n",
    "        break\n",
    "    \n",
    "    gray = cv2.cvtColor(frame, cv2.COLOR_BGR2GRAY)\n",
    "    faces = face_detector(gray)\n",
    "\n",
    "    for face in faces:\n",
    "        landmarks = predictor(gray, face)\n",
    "\n",
    "        upper_lip_point = (landmarks.part(51).x, landmarks.part(51).y)\n",
    "        lower_lip_point = (landmarks.part(57).x, landmarks.part(57).y)\n",
    "\n",
    "        # distance between the upper and lower lip points\n",
    "        distance = math.sqrt((lower_lip_point[0] - upper_lip_point[0]) ** 2 +\n",
    "                             (lower_lip_point[1] - upper_lip_point[1]) ** 2)\n",
    "\n",
    "        # ines between the upper and lower lip points\n",
    "        cv2.line(frame, upper_lip_point, lower_lip_point, (0, 0, 255), 2)\n",
    "\n",
    "        # green circles\n",
    "        cv2.circle(frame, upper_lip_point, 3, (0, 255, 0), -1)\n",
    "        cv2.circle(frame, lower_lip_point, 3, (0, 255, 0), -1)\n",
    "\n",
    "        if distance > 38:\n",
    "            consecutive_frames_yawning += 1\n",
    "            if consecutive_frames_yawning >= yawning_threshold and not yawn_detected:\n",
    "                yawn_count += 1\n",
    "                yawn_detected = True  \n",
    "        else:\n",
    "            consecutive_frames_yawning = 0\n",
    "            yawn_detected = False  \n",
    "\n",
    "    if yawn_count >= yawn_alert_threshold and not alert_displayed:\n",
    "        alert_displayed = True\n",
    "        alert_text = \"Yawning Alert! You are yawning.\"\n",
    "        cv2.putText(frame, alert_text, (20, 50), cv2.FONT_HERSHEY_SIMPLEX, 1, (0, 0, 255), 2)        \n",
    "\n",
    "    if yawn_count >= 4:  \n",
    "        yawn_count = 0\n",
    "        alert_sound.play()\n",
    "    \n",
    "    yawn_text = f\"Yawns: {yawn_count}\"\n",
    "    distance_text = f\"Distance: {distance:.2f}\"\n",
    "    cv2.putText(frame, yawn_text, (20, 20), cv2.FONT_HERSHEY_SIMPLEX, 0.7, (0, 0, 255), 2)\n",
    "    cv2.putText(frame, distance_text, (20, 80), cv2.FONT_HERSHEY_SIMPLEX, 0.7, (0, 0, 255), 2)\n",
    "\n",
    "    cv2.imshow('Lip Distance Detection', frame)\n",
    "\n",
    "    if cv2.waitKey(1) & 0xFF == ord('q'):\n",
    "        break\n",
    "\n",
    "alert_sound.stop()\n",
    "pygame.mixer.quit()\n",
    "cap.release()\n",
    "cv2.destroyAllWindows()"
   ]
  },
  {
   "cell_type": "code",
   "execution_count": null,
   "id": "2773566d-5419-4b21-8b3c-34d397ee759d",
   "metadata": {},
   "outputs": [],
   "source": []
  }
 ],
 "metadata": {
  "kernelspec": {
   "display_name": "Python 3 (ipykernel)",
   "language": "python",
   "name": "python3"
  },
  "language_info": {
   "codemirror_mode": {
    "name": "ipython",
    "version": 3
   },
   "file_extension": ".py",
   "mimetype": "text/x-python",
   "name": "python",
   "nbconvert_exporter": "python",
   "pygments_lexer": "ipython3",
   "version": "3.11.4"
  }
 },
 "nbformat": 4,
 "nbformat_minor": 5
}
