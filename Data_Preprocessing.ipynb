{
 "cells": [
  {
   "cell_type": "markdown",
   "id": "4f8e27e6-ca1e-4a94-b105-3cb0dd33da6f",
   "metadata": {},
   "source": [
    "# Converting images to Png"
   ]
  },
  {
   "cell_type": "code",
   "execution_count": 5,
   "id": "6fe8bd7f-01cf-43e5-8fb5-a46ed1e4fb12",
   "metadata": {},
   "outputs": [
    {
     "name": "stdout",
     "output_type": "stream",
     "text": [
      "Converted DSC_9696.JPG to PNG\n",
      "Converted IMG20220511215407.jpg to PNG\n",
      "Converted IMG20230520190211.jpg to PNG\n",
      "Converted IMG20230520190230.jpg to PNG\n",
      "Converted IMG20230629133346.jpg to PNG\n",
      "Converted IMG20230724103658.jpg to PNG\n",
      "Converted IMG_20191231_115000_132.jpg to PNG\n",
      "Converted IMG_20200106_144805_832.jpg to PNG\n",
      "Converted IMG_20200120_011944_277.jpg to PNG\n",
      "Converted IMG_20200221_132931_951.jpg to PNG\n",
      "Converted IMG_20200716_221844_013.jpg to PNG\n",
      "Converted IMG_20200716_222003_255.jpg to PNG\n",
      "Converted IMG_20201227_225906_290.jpg to PNG\n",
      "Converted IMG_20201227_225906_298.jpg to PNG\n",
      "Converted IMG_20210102_224331_874.jpg to PNG\n",
      "Converted IMG_20210120_000915_010.jpg to PNG\n",
      "Converted IMG_20210206_122841_691.jpg to PNG\n",
      "Converted IMG_20210212_171115_998.jpg to PNG\n",
      "Converted IMG_20210314_153403_690.jpg to PNG\n",
      "Converted IMG_20210401_004116_554.jpg to PNG\n",
      "Converted IMG_20210512_225947_043.jpg to PNG\n",
      "Converted IMG_20210712_225004_038.jpg to PNG\n",
      "Converted IMG_20220107_220636_838.jpg to PNG\n",
      "Converted IMG_20220329_114627_061.jpg to PNG\n",
      "Converted IMG_20230201_212003_753.jpg to PNG\n",
      "Converted IMG_20230710_201048.jpg to PNG\n",
      "Converted IMG_20230728_163530.jpg to PNG\n",
      "Converted IMG_20230728_230332.jpg to PNG\n",
      "Converted IMG_20230728_230504.jpg to PNG\n",
      "Converted Screenshot_2023-07-11-10-28-58-00_6012fa4d4ddec268fc5c7112cbb265e7.jpg to PNG\n"
     ]
    }
   ],
   "source": [
    "import os\n",
    "import cv2\n",
    "\n",
    "main_folder_path = r\"C:\\Users\\imadc\\Downloads\\NormalPhotos\"\n",
    "file_list = os.listdir(main_folder_path)\n",
    "\n",
    "for file_name in file_list:\n",
    "    \n",
    "    if file_name.lower().endswith('.jpg'):        \n",
    "        image_path = os.path.join(main_folder_path, file_name)               \n",
    "        image = cv2.imread(image_path)\n",
    "        \n",
    "        if image is not None:\n",
    "            png_image_path = os.path.splitext(image_path)[0] + '.png'\n",
    "            \n",
    "            cv2.imwrite(png_image_path, image)\n",
    "            \n",
    "            print(f\"Converted {file_name} to PNG\")                        \n",
    "            os.remove(image_path)\n",
    "        else:\n",
    "            print(f\"Error reading {file_name}\")"
   ]
  },
  {
   "cell_type": "markdown",
   "id": "3af25b4b-f0d5-42d4-9995-f25f0cee9232",
   "metadata": {},
   "source": [
    "# Converting Images t Grayscale"
   ]
  },
  {
   "cell_type": "code",
   "execution_count": 5,
   "id": "73e13418-bad5-4ed9-932d-b3c3c41bda55",
   "metadata": {},
   "outputs": [
    {
     "name": "stdout",
     "output_type": "stream",
     "text": [
      "Converted IMG_20230810_205309.png to grayscale\n",
      "Converted IMG_20230810_205325.png to grayscale\n",
      "Converted IMG_20230810_205335.png to grayscale\n",
      "Converted IMG_20230810_205350.png to grayscale\n",
      "Converted IMG_20230810_205405.png to grayscale\n",
      "Converted IMG_20230810_205442.png to grayscale\n",
      "Converted IMG_20230810_205455.png to grayscale\n",
      "Converted IMG_20230810_205516.png to grayscale\n",
      "Converted IMG_20230810_205527.png to grayscale\n",
      "Converted IMG_20230810_205543.png to grayscale\n",
      "Converted IMG_20230810_205642.png to grayscale\n",
      "Converted IMG_20230810_205652.png to grayscale\n",
      "Converted IMG_20230810_205708.png to grayscale\n",
      "Converted IMG_20230810_205719.png to grayscale\n",
      "Converted IMG_20230810_205734.png to grayscale\n",
      "Converted IMG_20230810_205747.png to grayscale\n",
      "Converted IMG_20230810_205803.png to grayscale\n",
      "Converted IMG_20230810_205814.png to grayscale\n",
      "Converted IMG_20230810_205829.png to grayscale\n",
      "Converted IMG_20230810_205843.png to grayscale\n",
      "Converted IMG_20230810_205947.png to grayscale\n",
      "Converted IMG_20230810_205958.png to grayscale\n",
      "Converted IMG_20230810_210015.png to grayscale\n",
      "Converted IMG_20230810_210024.png to grayscale\n",
      "Converted IMG_20230810_210042.png to grayscale\n",
      "Converted IMG_20230810_210055.png to grayscale\n",
      "Converted IMG_20230810_210114.png to grayscale\n",
      "Converted IMG_20230810_210125.png to grayscale\n",
      "Converted IMG_20230810_210139.png to grayscale\n",
      "Converted IMG_20230810_210153.png to grayscale\n",
      "Converted IMG_20230810_210213.png to grayscale\n"
     ]
    }
   ],
   "source": [
    "main_folder_path = \"Close_specs_eyes\" \n",
    "\n",
    "file_list = os.listdir(main_folder_path)\n",
    "\n",
    "for file_name in file_list:\n",
    "    \n",
    "    image_path = os.path.join(main_folder_path, file_name)        \n",
    "    image = cv2.imread(image_path, cv2.IMREAD_GRAYSCALE)\n",
    "    \n",
    "    if image is not None:\n",
    "        cv2.imwrite(image_path, image)       \n",
    "        print(f\"Converted {file_name} to grayscale\")\n",
    "    else:\n",
    "        print(f\"Error reading {file_name}\")\n"
   ]
  },
  {
   "cell_type": "markdown",
   "id": "2bbcbf70-b856-4e75-8ec3-2b07810cecdc",
   "metadata": {},
   "source": [
    "# Converting all the images to 110x110 "
   ]
  },
  {
   "cell_type": "code",
   "execution_count": 6,
   "id": "da4de76e-8ae1-4eea-b973-3f1fc374363d",
   "metadata": {},
   "outputs": [
    {
     "name": "stdout",
     "output_type": "stream",
     "text": [
      "Resized DSC_9696.png to 110x110\n",
      "Resized IMG-20230629-WA0046.jpeg to 110x110\n",
      "Resized IMG-20230705-WA0006.jpeg to 110x110\n",
      "Resized IMG-20230721-WA0003.jpeg to 110x110\n",
      "Resized IMG-20230802-WA0011.jpeg to 110x110\n",
      "Resized IMG20220511215407.png to 110x110\n",
      "Resized IMG20230520190211.png to 110x110\n",
      "Resized IMG20230520190230.png to 110x110\n",
      "Resized IMG20230629133346.png to 110x110\n",
      "Resized IMG20230724103658.png to 110x110\n",
      "Resized IMG_20191231_115000_132.png to 110x110\n",
      "Resized IMG_20200106_144805_832.png to 110x110\n",
      "Resized IMG_20200120_011944_277.png to 110x110\n",
      "Resized IMG_20200221_132931_951.png to 110x110\n",
      "Resized IMG_20200716_221844_013.png to 110x110\n",
      "Resized IMG_20200716_222003_255.png to 110x110\n",
      "Resized IMG_20201227_225906_290.png to 110x110\n",
      "Resized IMG_20201227_225906_298.png to 110x110\n",
      "Resized IMG_20210102_224331_874.png to 110x110\n",
      "Resized IMG_20210120_000915_010.png to 110x110\n",
      "Resized IMG_20210206_122841_691.png to 110x110\n",
      "Resized IMG_20210212_171115_998.png to 110x110\n",
      "Resized IMG_20210314_153403_690.png to 110x110\n",
      "Resized IMG_20210401_004116_554.png to 110x110\n",
      "Resized IMG_20210512_225947_043.png to 110x110\n",
      "Resized IMG_20210712_225004_038.png to 110x110\n",
      "Resized IMG_20211208_222836_941.webp to 110x110\n",
      "Resized IMG_20211210_190342_795.webp to 110x110\n",
      "Resized IMG_20220107_220636_838.png to 110x110\n",
      "Resized IMG_20220201_220546_244.webp to 110x110\n",
      "Resized IMG_20220328_201956_764.webp to 110x110\n",
      "Resized IMG_20220329_114627_061.png to 110x110\n",
      "Resized IMG_20230201_212003_753.png to 110x110\n",
      "Resized IMG_20230710_201048.png to 110x110\n",
      "Resized IMG_20230728_163530.png to 110x110\n",
      "Resized IMG_20230728_230332.png to 110x110\n",
      "Resized IMG_20230728_230504.png to 110x110\n",
      "Resized Screenshot_2023-07-11-10-28-58-00_6012fa4d4ddec268fc5c7112cbb265e7.png to 110x110\n"
     ]
    }
   ],
   "source": [
    "main_folder_path = r\"C:\\Users\\imadc\\Downloads\\NormalPhotos\"   # Change this to your folder path\n",
    "\n",
    "# New dimensions for resizing\n",
    "new_width = 110\n",
    "new_height = 110\n",
    "\n",
    "# Iterate through the files\n",
    "for file_name in os.listdir(main_folder_path):\n",
    "    # Construct the full path to the image\n",
    "    image_path = os.path.join(main_folder_path, file_name)\n",
    "    \n",
    "    # Read the image\n",
    "    image = cv2.imread(image_path)\n",
    "    \n",
    "    if image is not None:\n",
    "        # Resize the image\n",
    "        resized_image = cv2.resize(image, (new_width, new_height))\n",
    "        \n",
    "        # Save the resized image back, overwriting the original image\n",
    "        cv2.imwrite(image_path, resized_image)\n",
    "        \n",
    "        print(f\"Resized {file_name} to {new_width}x{new_height}\")\n",
    "    else:\n",
    "        print(f\"Error reading {file_name}\")\n"
   ]
  },
  {
   "cell_type": "markdown",
   "id": "927475fc-d244-4fc1-8f06-477f4b206ef0",
   "metadata": {},
   "source": [
    "# Shuffle images and give Random numbers"
   ]
  },
  {
   "cell_type": "code",
   "execution_count": 7,
   "id": "069b703e-6dda-4d2b-8fe1-9cdd825e901a",
   "metadata": {},
   "outputs": [
    {
     "name": "stdout",
     "output_type": "stream",
     "text": [
      "Renamed IMG_20210512_225947_043.png to 001.png\n",
      "Renamed IMG_20200716_222003_255.png to 002.png\n",
      "Renamed IMG_20230728_163530.png to 003.png\n",
      "Renamed IMG20230724103658.png to 004.png\n",
      "Renamed IMG_20230201_212003_753.png to 005.png\n",
      "Renamed Screenshot_2023-07-11-10-28-58-00_6012fa4d4ddec268fc5c7112cbb265e7.png to 006.png\n",
      "Renamed IMG_20210401_004116_554.png to 007.png\n",
      "Renamed IMG_20210120_000915_010.png to 008.png\n",
      "Renamed IMG_20220201_220546_244.webp to 009.png\n",
      "Renamed IMG-20230802-WA0011.jpeg to 010.png\n",
      "Renamed IMG_20210212_171115_998.png to 011.png\n",
      "Renamed IMG-20230629-WA0046.jpeg to 012.png\n",
      "Renamed IMG_20230710_201048.png to 013.png\n",
      "Renamed IMG_20230728_230332.png to 014.png\n",
      "Renamed IMG_20210314_153403_690.png to 015.png\n",
      "Renamed IMG_20200120_011944_277.png to 016.png\n",
      "Renamed IMG20230629133346.png to 017.png\n",
      "Renamed IMG_20200221_132931_951.png to 018.png\n",
      "Renamed IMG_20220328_201956_764.webp to 019.png\n",
      "Renamed IMG_20220107_220636_838.png to 020.png\n",
      "Renamed IMG_20211210_190342_795.webp to 021.png\n",
      "Renamed IMG-20230705-WA0006.jpeg to 022.png\n",
      "Renamed IMG_20200106_144805_832.png to 023.png\n",
      "Renamed IMG_20200716_221844_013.png to 024.png\n",
      "Renamed IMG-20230721-WA0003.jpeg to 025.png\n",
      "Renamed IMG_20210712_225004_038.png to 026.png\n",
      "Renamed IMG20230520190230.png to 027.png\n",
      "Renamed IMG_20210206_122841_691.png to 028.png\n",
      "Renamed IMG_20201227_225906_290.png to 029.png\n",
      "Renamed IMG_20211208_222836_941.webp to 030.png\n",
      "Renamed IMG_20201227_225906_298.png to 031.png\n",
      "Renamed IMG_20210102_224331_874.png to 032.png\n",
      "Renamed IMG_20191231_115000_132.png to 033.png\n",
      "Renamed IMG_20220329_114627_061.png to 034.png\n",
      "Renamed IMG20230520190211.png to 035.png\n",
      "Renamed IMG20220511215407.png to 036.png\n",
      "Renamed IMG_20230728_230504.png to 037.png\n",
      "Renamed DSC_9696.png to 038.png\n",
      "Shuffling and renaming completed.\n"
     ]
    }
   ],
   "source": [
    "import os\n",
    "import random\n",
    "\n",
    "main_folder_path = r\"C:\\Users\\imadc\\Downloads\\NormalPhotos\" \n",
    "file_list = os.listdir(main_folder_path)\n",
    "random.shuffle(file_list)\n",
    "\n",
    "for index, file_name in enumerate(file_list, start=1):\n",
    "    \n",
    "    original_image_path = os.path.join(main_folder_path, file_name)    \n",
    "    new_image_path = os.path.join(main_folder_path, f\"{index:03d}.png\")\n",
    "    os.rename(original_image_path, new_image_path)\n",
    "    \n",
    "    print(f\"Renamed {file_name} to {index:03d}.png\")\n",
    "\n",
    "print(\"Shuffling and renaming completed.\")"
   ]
  }
 ],
 "metadata": {
  "kernelspec": {
   "display_name": "Python 3 (ipykernel)",
   "language": "python",
   "name": "python3"
  },
  "language_info": {
   "codemirror_mode": {
    "name": "ipython",
    "version": 3
   },
   "file_extension": ".py",
   "mimetype": "text/x-python",
   "name": "python",
   "nbconvert_exporter": "python",
   "pygments_lexer": "ipython3",
   "version": "3.11.4"
  }
 },
 "nbformat": 4,
 "nbformat_minor": 5
}
